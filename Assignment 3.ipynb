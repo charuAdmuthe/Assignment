{
 "cells": [
  {
   "cell_type": "markdown",
   "metadata": {},
   "source": [
    "1.1 Write a Python Program to implement your own myreduce() function which works exactly\n",
    "like Python's built-in function reduce()."
   ]
  },
  {
   "cell_type": "code",
   "execution_count": 3,
   "metadata": {},
   "outputs": [
    {
     "name": "stdout",
     "output_type": "stream",
     "text": [
      "Addition of list : 28\n",
      "Multiplication of List: 3360\n",
      "Concatenation of string: Thisispracticeassignment\n"
     ]
    }
   ],
   "source": [
    "def myreduce(num,operation):\n",
    "    result_of_elements = 0\n",
    "    if operation== 0:\n",
    "        for val in num:\n",
    "            result_of_elements = result_of_elements + val\n",
    "        return result_of_elements\n",
    "    elif operation == 1:\n",
    "        result_of_elements = 1\n",
    "        for val in num:\n",
    "            result_of_elements = result_of_elements * val\n",
    "        return result_of_elements\n",
    "    elif operation == 2:\n",
    "        result_str = \"\"\n",
    "        for val in num:\n",
    "            result_str = result_str+ str(val)\n",
    "        return result_str\n",
    "\n",
    "lst = [1,3,5,4,7,8]\n",
    "lst_str = [\"This\", \"is\", \"practice\",\"assignment\"]\n",
    "print(\"Addition of list :\", myreduce(lst,0))\n",
    "print(\"Multiplication of List:\", myreduce(lst,1))\n",
    "print(\"Concatenation of string:\", myreduce(lst_str,2))"
   ]
  },
  {
   "cell_type": "markdown",
   "metadata": {},
   "source": [
    "1.2 Write a Python program to implement your own myfilter() function which works exactly\n",
    "like Python's built-in function filter()"
   ]
  },
  {
   "cell_type": "code",
   "execution_count": 5,
   "metadata": {},
   "outputs": [
    {
     "name": "stdout",
     "output_type": "stream",
     "text": [
      "Even numbers: [0, 2, 8, 34]\n",
      "Odd numbers: [1, 3, 5, 13]\n"
     ]
    }
   ],
   "source": [
    "def myfilter(seq):\n",
    "    even_list= []\n",
    "    odd_list = []\n",
    "    for x in seq:\n",
    "        if x%2 == 0:\n",
    "            even_list.append(x)\n",
    "        else:\n",
    "            odd_list.append(x)\n",
    "    return even_list,odd_list\n",
    "\n",
    "seq = [0, 1, 2, 3, 5, 8, 13,34]\n",
    "result = myfilter(seq)\n",
    "\n",
    "print(\"Even numbers:\", result[0])\n",
    "print(\"Odd numbers:\", result[1])"
   ]
  },
  {
   "cell_type": "markdown",
   "metadata": {},
   "source": [
    "2.Implement List comprehensions to produce the following lists.\n",
    "Write List comprehensions to produce the following Lists"
   ]
  },
  {
   "cell_type": "code",
   "execution_count": 12,
   "metadata": {},
   "outputs": [
    {
     "name": "stdout",
     "output_type": "stream",
     "text": [
      "['x', 'xx', 'xxx', 'xxxx', 'y', 'yy', 'yyy', 'yyyy', 'z', 'zz', 'zzz', 'zzzz']\n"
     ]
    }
   ],
   "source": [
    "list1 = list('xyz')\n",
    "list2=[x*n for x in list1 for n in range(1,5) ]\n",
    "print(list2)"
   ]
  },
  {
   "cell_type": "code",
   "execution_count": 15,
   "metadata": {},
   "outputs": [
    {
     "name": "stdout",
     "output_type": "stream",
     "text": [
      "['x', 'y', 'z', 'xx', 'yy', 'zz', 'xxx', 'yyy', 'zzz', 'xxxx', 'yyyy', 'zzzz']\n"
     ]
    }
   ],
   "source": [
    "list1 = list('xyz')\n",
    "list2=[x*n for x in range(1,5) for n in list1 ]\n",
    "print(list2)"
   ]
  },
  {
   "cell_type": "code",
   "execution_count": 17,
   "metadata": {},
   "outputs": [
    {
     "name": "stdout",
     "output_type": "stream",
     "text": [
      "[[2], [3], [4], [3], [4], [5], [4], [5], [6]]\n"
     ]
    }
   ],
   "source": [
    "list1 = [2,3,4]\n",
    "list2=[[x+n] for x in list1 for n in range(0,3) ]\n",
    "print(list2)"
   ]
  },
  {
   "cell_type": "code",
   "execution_count": 18,
   "metadata": {},
   "outputs": [
    {
     "name": "stdout",
     "output_type": "stream",
     "text": [
      "[[2, 3, 4, 5], [3, 4, 5, 6], [4, 5, 6, 7], [5, 6, 7, 8]]\n"
     ]
    }
   ],
   "source": [
    "list2 = [2,3,4,5]\n",
    "list3=[[x+n for n in range(0,4)] for x in list2 ]\n",
    "print(list3)"
   ]
  },
  {
   "cell_type": "code",
   "execution_count": 20,
   "metadata": {},
   "outputs": [
    {
     "name": "stdout",
     "output_type": "stream",
     "text": [
      "[(1, 1), (2, 1), (3, 1), (1, 2), (2, 2), (3, 2), (1, 3), (2, 3), (3, 3)]\n"
     ]
    }
   ],
   "source": [
    "list5 = [1,2,3]\n",
    "list6=[(y,x) for x in list5 for y in list5 ]\n",
    "print(list6)"
   ]
  },
  {
   "cell_type": "code",
   "execution_count": null,
   "metadata": {},
   "outputs": [],
   "source": []
  }
 ],
 "metadata": {
  "kernelspec": {
   "display_name": "Python 3",
   "language": "python",
   "name": "python3"
  },
  "language_info": {
   "codemirror_mode": {
    "name": "ipython",
    "version": 3
   },
   "file_extension": ".py",
   "mimetype": "text/x-python",
   "name": "python",
   "nbconvert_exporter": "python",
   "pygments_lexer": "ipython3",
   "version": "3.7.3"
  }
 },
 "nbformat": 4,
 "nbformat_minor": 2
}
